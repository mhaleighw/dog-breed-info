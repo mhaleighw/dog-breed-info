{
 "cells": [
  {
   "cell_type": "code",
   "execution_count": 1,
   "metadata": {
    "id": "uMi6ffg5xMnr",
    "scrolled": false
   },
   "outputs": [
    {
     "data": {
      "text/plain": [
       "True"
      ]
     },
     "execution_count": 1,
     "metadata": {},
     "output_type": "execute_result"
    }
   ],
   "source": [
    "import requests\n",
    "import os\n",
    "from dotenv import load_dotenv\n",
    "\n",
    "dotenv_file = \"API_Key.env\"\n",
    "load_dotenv(dotenv_file)"
   ]
  },
  {
   "cell_type": "code",
   "execution_count": 2,
   "metadata": {
    "id": "gzs7_kDdX8lE"
   },
   "outputs": [],
   "source": [
    "# i want the output to be in inches (cm->inch)\n",
    "def convert_cm_to_inches(cm):\n",
    "    return cm * 0.393701\n",
    "\n",
    "# i want the output to be in pounds (kg->lbs)\n",
    "def convert_kg_to_pounds(kg):\n",
    "    return kg * 2.20462"
   ]
  },
  {
   "cell_type": "code",
   "execution_count": 3,
   "metadata": {
    "id": "pJ8wdgdfW4dZ"
   },
   "outputs": [],
   "source": [
    "def get_dog_breed_info(breed_name):\n",
    "    # connect to API url for breed info\n",
    "    url = f\"https://api.api-ninjas.com/v1/dogs?name={breed_name.lower()}\"\n",
    "    \n",
    "    # retrieve API key from environment variable\n",
    "    api_key = os.getenv(\"API_KEY\")\n",
    "    headers = {'X-Api-Key': api_key}\n",
    "\n",
    "    # get request\n",
    "    response = requests.get(url, headers=headers)\n",
    "\n",
    "    # if succesful, begin parsing\n",
    "    if response.status_code == requests.codes.ok:\n",
    "        data = response.json()\n",
    "        if data:\n",
    "            return data[0] # output the specific dog breed that fits the values\n",
    "        else:\n",
    "            return None\n",
    "    else:\n",
    "        # unsuccessful get request\n",
    "        print(f\"Failed to fetch data. Status code: {response.status_code}\")\n",
    "        return None"
   ]
  },
  {
   "cell_type": "code",
   "execution_count": 4,
   "metadata": {
    "id": "XwnLv4A5XABn"
   },
   "outputs": [],
   "source": [
    "def display_dog_info(dog_info):\n",
    "    if dog_info:\n",
    "        print(\"Dog Breed Information:\") # title of application\n",
    "\n",
    "        for key, value in dog_info.items():\n",
    "\n",
    "            # height: (cm->inch)\n",
    "            if key.startswith(\"min_height\") or key.startswith(\"max_height\"):\n",
    "                value = convert_cm_to_inches(value)\n",
    "                print(f\"{key.replace('_', ' ').capitalize()}: {value:.2f} inches\")\n",
    "\n",
    "            # weight: (kg->pounds)\n",
    "            elif key.startswith(\"min_weight\") or key.startswith(\"max_weight\"):\n",
    "                value = convert_kg_to_pounds(value)\n",
    "                print(f\"{key.replace('_', ' ').capitalize()}: {value:.2f} pounds\")\n",
    "\n",
    "            # average life expectancy in years\n",
    "            elif key.endswith(\"_expectancy\"):\n",
    "                print(f\"{key.replace('_', ' ').capitalize()}: {value} years\")\n",
    "\n",
    "            # display shedding info, barking, energy, protectiveness, & trainability\n",
    "            # the possible values are: 1, 2, 3, 4, 5 (1 indicates minimum, 5 indicates maximum)\n",
    "            elif key in [\"shedding\", \"barking\", \"energy\", \"protectiveness\", \"trainability\"]:\n",
    "                print(f\"{key.capitalize()}: {value}\")\n",
    "            else:\n",
    "                print(f\"{key.replace('_', ' ').capitalize()}: {value}\")\n",
    "    else:\n",
    "        print(\"No information available for the specified dog breed.\") # the dog breed is not in the API base"
   ]
  },
  {
   "cell_type": "code",
   "execution_count": 5,
   "metadata": {
    "colab": {
     "base_uri": "https://localhost:8080/"
    },
    "id": "TdzDgJwPXBOI",
    "outputId": "7969e539-259e-4167-f266-4213684beef5"
   },
   "outputs": [
    {
     "name": "stdout",
     "output_type": "stream",
     "text": [
      "Enter the dog breed: maltese\n",
      "Dog Breed Information:\n",
      "Image link: https://api-ninjas.com/images/dogs/maltese.jpg\n",
      "Good with children: 3\n",
      "Good with other dogs: 3\n",
      "Shedding: 1\n",
      "Grooming: 4\n",
      "Drooling: 1\n",
      "Coat length: 1\n",
      "Good with strangers: 3\n",
      "Playfulness: 3\n",
      "Protectiveness: 4\n",
      "Trainability: 3\n",
      "Energy: 3\n",
      "Barking: 3\n",
      "Min life expectancy: 12.0 years\n",
      "Max life expectancy: 15.0 years\n",
      "Max height male: 3.54 inches\n",
      "Max height female: 3.54 inches\n",
      "Max weight male: 19.40 pounds\n",
      "Max weight female: 19.40 pounds\n",
      "Min height male: 2.76 inches\n",
      "Min height female: 2.76 inches\n",
      "Min weight male: 14.55 pounds\n",
      "Min weight female: 14.55 pounds\n",
      "Name: Maltese\n"
     ]
    }
   ],
   "source": [
    "if __name__ == \"__main__\":\n",
    "    breed_name = input(\"Enter the dog breed: \")\n",
    "    dog_info = get_dog_breed_info(breed_name)\n",
    "    display_dog_info(dog_info)"
   ]
  },
  {
   "cell_type": "code",
   "execution_count": null,
   "metadata": {},
   "outputs": [],
   "source": []
  }
 ],
 "metadata": {
  "colab": {
   "provenance": []
  },
  "kernelspec": {
   "display_name": "Python 3 (ipykernel)",
   "language": "python",
   "name": "python3"
  },
  "language_info": {
   "codemirror_mode": {
    "name": "ipython",
    "version": 3
   },
   "file_extension": ".py",
   "mimetype": "text/x-python",
   "name": "python",
   "nbconvert_exporter": "python",
   "pygments_lexer": "ipython3",
   "version": "3.10.2"
  }
 },
 "nbformat": 4,
 "nbformat_minor": 1
}
